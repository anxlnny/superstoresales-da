{
  "nbformat": 4,
  "nbformat_minor": 0,
  "metadata": {
    "colab": {
      "provenance": []
    },
    "kernelspec": {
      "name": "python3",
      "display_name": "Python 3"
    },
    "language_info": {
      "name": "python"
    }
  },
  "cells": [
    {
      "cell_type": "markdown",
      "source": [
        "# Collecting the data - About the data"
      ],
      "metadata": {
        "id": "VcxqT4k5KFXD"
      }
    },
    {
      "cell_type": "code",
      "source": [
        "import numpy as np\n",
        "import pandas as pd\n",
        "import matplotlib.pyplot as plt\n",
        "import seaborn as sns\n",
        "\n",
        "df = pd.read_csv('/content/drive/MyDrive/Colab Notebooks/Superstore sales data.csv', encoding='windows-1252') "
      ],
      "metadata": {
        "id": "CImKIaWzvpWq"
      },
      "execution_count": 1,
      "outputs": []
    },
    {
      "cell_type": "code",
      "source": [
        "# read all rows and columns\n",
        "pd.set_option('display.max_columns', None)\n",
        "pd.set_option('display.max_rows', None)"
      ],
      "metadata": {
        "id": "FmF1Loio9zIo"
      },
      "execution_count": 2,
      "outputs": []
    },
    {
      "cell_type": "code",
      "source": [
        "# number of rows and columns of dataset\n",
        "df.shape"
      ],
      "metadata": {
        "id": "Zfk2Ozw21sXK"
      },
      "execution_count": null,
      "outputs": []
    },
    {
      "cell_type": "code",
      "source": [
        "# columns of dataset\n",
        "df.columns"
      ],
      "metadata": {
        "id": "71xg0Z6bKMiW"
      },
      "execution_count": null,
      "outputs": []
    },
    {
      "cell_type": "markdown",
      "source": [
        "# Data pre-processing"
      ],
      "metadata": {
        "id": "IDgQcy9pNWNI"
      }
    },
    {
      "cell_type": "code",
      "source": [
        "# read all columns\n",
        "pd.set_option('display.max_columns', None)"
      ],
      "metadata": {
        "id": "qTvfBwr4OwMp"
      },
      "execution_count": 5,
      "outputs": []
    },
    {
      "cell_type": "code",
      "source": [
        "# data type of each column and null values (no null, need to change Date dtype)\n",
        "df.info()"
      ],
      "metadata": {
        "id": "WvZcjyehzXiN"
      },
      "execution_count": null,
      "outputs": []
    },
    {
      "cell_type": "code",
      "source": [
        "# change datatype for Order Date and Ship Date\n",
        "df['Order Date'] = pd.to_datetime(df['Order Date'])\n",
        "df['Ship Date'] = pd.to_datetime(df['Ship Date'])"
      ],
      "metadata": {
        "id": "WpJHH55SR3p4"
      },
      "execution_count": 7,
      "outputs": []
    },
    {
      "cell_type": "code",
      "source": [
        "# check for duplicate values (no)\n",
        "df.duplicated().value_counts()"
      ],
      "metadata": {
        "id": "_tZIDmZoNaf0"
      },
      "execution_count": null,
      "outputs": []
    },
    {
      "cell_type": "code",
      "source": [
        "# count the unique values in each column\n",
        "df.nunique()"
      ],
      "metadata": {
        "id": "31wyi9zVy_NG"
      },
      "execution_count": null,
      "outputs": []
    },
    {
      "cell_type": "code",
      "source": [
        "# drop columns\n",
        "df.drop(columns = ['Country', 'Postal Code'], inplace=True)"
      ],
      "metadata": {
        "id": "lS03--fozU_g"
      },
      "execution_count": 10,
      "outputs": []
    },
    {
      "cell_type": "code",
      "source": [
        "# split Order Date column\n",
        "df['Order Year'] = df['Order Date'].astype(str).str.split('-', expand=True)[0]\n",
        "df['Order Month'] = df['Order Date'].astype(str).str.split('-', expand=True)[1]"
      ],
      "metadata": {
        "id": "a-48Ts8wnPDj"
      },
      "execution_count": 11,
      "outputs": []
    },
    {
      "cell_type": "code",
      "source": [
        "# delivery time\n",
        "df['Delivery Time'] = (df['Ship Date'] - df['Order Date']) / np.timedelta64(1, 'D')"
      ],
      "metadata": {
        "id": "6SJqTi6Isxi-"
      },
      "execution_count": 12,
      "outputs": []
    },
    {
      "cell_type": "code",
      "source": [
        "df.sample(3)"
      ],
      "metadata": {
        "id": "K1iJy6y6TEPp"
      },
      "execution_count": null,
      "outputs": []
    },
    {
      "cell_type": "code",
      "source": [
        "# export the final file\n",
        "df.to_csv('/content/drive/MyDrive/Colab Notebooks/Superstore sales data_cleaned.csv', index=False)"
      ],
      "metadata": {
        "id": "MH8WmhS8Uuay"
      },
      "execution_count": 14,
      "outputs": []
    },
    {
      "cell_type": "markdown",
      "source": [
        "# EDA"
      ],
      "metadata": {
        "id": "EDOHi6LrTgX5"
      }
    },
    {
      "cell_type": "markdown",
      "source": [
        "Basic stats"
      ],
      "metadata": {
        "id": "qi_iaKRQzrto"
      }
    },
    {
      "cell_type": "code",
      "source": [
        "# basic stats of the dataset\n",
        "df.describe()"
      ],
      "metadata": {
        "id": "74WSeArC2aUS"
      },
      "execution_count": null,
      "outputs": []
    },
    {
      "cell_type": "code",
      "source": [
        "# correlation of the columns \n",
        "df.corr()\n",
        "ax = sns.heatmap(df.corr(), cmap='coolwarm', annot=True)\n",
        "plt.gcf().set_size_inches(8,5)"
      ],
      "metadata": {
        "id": "DBcqaen-3DPJ"
      },
      "execution_count": null,
      "outputs": []
    },
    {
      "cell_type": "markdown",
      "source": [
        "Sales revenue and profit overview"
      ],
      "metadata": {
        "id": "M_9B7hHKTq57"
      }
    },
    {
      "cell_type": "code",
      "source": [
        "# total revenue \n",
        "total_sales = df['Sales'].sum()"
      ],
      "metadata": {
        "id": "WaYPQ9_UUKY0"
      },
      "execution_count": 17,
      "outputs": []
    },
    {
      "cell_type": "code",
      "source": [
        "# total profit\n",
        "total_profit = df['Profit'].sum()"
      ],
      "metadata": {
        "id": "agBzrz8SVi5S"
      },
      "execution_count": 18,
      "outputs": []
    },
    {
      "cell_type": "code",
      "source": [
        "# overall profit margin\n",
        "total_profit / total_sales * 100"
      ],
      "metadata": {
        "id": "Uzq56QlsWE1H"
      },
      "execution_count": null,
      "outputs": []
    },
    {
      "cell_type": "markdown",
      "source": [
        "Product sales analysis"
      ],
      "metadata": {
        "id": "KpLCM1MHI77c"
      }
    },
    {
      "cell_type": "code",
      "source": [
        "# quantity per product\n",
        "df.groupby(['Category', 'Sub-Category'])['Quantity'].sum()"
      ],
      "metadata": {
        "id": "Uzs4ZjjMJQ7P"
      },
      "execution_count": null,
      "outputs": []
    },
    {
      "cell_type": "code",
      "source": [
        "# sales by category\n",
        "df.groupby(['Category'])['Sales'].sum()"
      ],
      "metadata": {
        "id": "qib5HHHdLelO"
      },
      "execution_count": null,
      "outputs": []
    },
    {
      "cell_type": "code",
      "source": [
        "# profit by category \n",
        "df.groupby(['Category'])['Profit'].sum()"
      ],
      "metadata": {
        "id": "JZDlqrGEdVX3"
      },
      "execution_count": null,
      "outputs": []
    },
    {
      "cell_type": "code",
      "source": [
        "# profit margin by sub-category\n",
        "pm_product = df.groupby(['Category', 'Sub-Category'])[['Sales', 'Profit']].sum()\n",
        "pm_product['Profit Margin'] = pm_product['Profit'] / pm_product['Sales'] * 100\n",
        "pm_product.sort_values(by='Profit Margin', ascending=False)"
      ],
      "metadata": {
        "id": "zW9AaPtrwDeU"
      },
      "execution_count": null,
      "outputs": []
    },
    {
      "cell_type": "code",
      "source": [
        "# selling products (80-23)\n",
        "total_sales_of_sp = df.groupby(['Category', 'Sub-Category', 'Product Name'])['Sales'].sum().sort_values(ascending=False).head(420).sum()"
      ],
      "metadata": {
        "id": "h2-5ywBUfahw"
      },
      "execution_count": 24,
      "outputs": []
    },
    {
      "cell_type": "code",
      "source": [
        "# top 10 selling products\n",
        "sp = df.groupby(['Sub-Category', 'Product Name'])['Sales'].sum().sort_values(ascending=False).head(10)\n",
        "sp"
      ],
      "metadata": {
        "id": "6KLntWYu9XXm"
      },
      "execution_count": null,
      "outputs": []
    },
    {
      "cell_type": "code",
      "source": [
        "# dead products (5-51)\n",
        "total_sales_of_dp = df.groupby(['Sub-Category', 'Product Name'])['Sales'].sum().sort_values(ascending=False).tail(950).sum()"
      ],
      "metadata": {
        "id": "qGRza394jMsu"
      },
      "execution_count": 26,
      "outputs": []
    },
    {
      "cell_type": "code",
      "source": [
        "# top 10 dead products\n",
        "dp = df.groupby(['Sub-Category', 'Product Name'])['Sales'].sum().sort_values().head(10)\n",
        "dp"
      ],
      "metadata": {
        "id": "sjeDO2Ru-cIj"
      },
      "execution_count": null,
      "outputs": []
    },
    {
      "cell_type": "markdown",
      "source": [
        "Customers analysis"
      ],
      "metadata": {
        "id": "fYEnNF0nNU1W"
      }
    },
    {
      "cell_type": "code",
      "source": [
        "# sales and profit by segment of customers and category\n",
        "df.groupby(['Segment', 'Category'])[['Sales', 'Profit']].sum().sort_values(by = 'Sales', ascending=False)"
      ],
      "metadata": {
        "id": "VW2BNjSZCd4z"
      },
      "execution_count": null,
      "outputs": []
    },
    {
      "cell_type": "code",
      "source": [
        "# profit margin by segment\n",
        "pm_segment = df.groupby(['Segment'])[['Sales', 'Profit']].sum()\n",
        "pm_segment['Profit Margin'] = pm_segment['Profit'] / pm_segment['Sales'] * 100\n",
        "pm_segment"
      ],
      "metadata": {
        "id": "r4K8wYPAgOHY"
      },
      "execution_count": null,
      "outputs": []
    },
    {
      "cell_type": "code",
      "source": [
        "# Pareto for sales by customers \n",
        "df1 = df.groupby(['Customer ID']).agg({'Sales':'sum'})\n",
        "df1 = df1.sort_values(by = 'Sales', ascending=False)\n",
        "n_customers = int(round(len(df1)*0.2))\n",
        "top_20_percent_sales = df1['Sales'].head(n_customers).sum() / df1['Sales'].sum() * 100\n",
        "\n",
        "print(f'The top {n_customers} customers generate {top_20_percent_sales:.2f}% of sales')"
      ],
      "metadata": {
        "id": "TnftibnH27vo"
      },
      "execution_count": null,
      "outputs": []
    },
    {
      "cell_type": "code",
      "source": [
        "# customers who bring about major sales (50-80) --> check Pareto\n",
        "df.groupby(['Customer ID', 'Customer Name'])['Sales'].sum().sort_values(ascending=False).head(400).sum()"
      ],
      "metadata": {
        "id": "dqxSEUHyNdb1"
      },
      "execution_count": null,
      "outputs": []
    },
    {
      "cell_type": "code",
      "source": [
        "# Pareto for profit by customers \n",
        "df2 = df.groupby(['Customer ID']).agg({'Profit':'sum'})\n",
        "df2 = df2.sort_values(by = 'Profit', ascending=False)\n",
        "n_customers = int(round(len(df2)*0.2))\n",
        "top_20_percent = df2['Profit'].head(n_customers).sum() / df2['Profit'].sum() * 100\n",
        "\n",
        "print(f'The top {n_customers} customers generate {top_20_percent:.2f}% of profit')"
      ],
      "metadata": {
        "id": "8KpfgR5w0hKP"
      },
      "execution_count": null,
      "outputs": []
    },
    {
      "cell_type": "code",
      "source": [
        "# customers who bring about major profit (20-80) --> check Pareto\n",
        "dg = df.groupby(['Customer ID', 'Customer Name']).agg({'Profit':'sum'}).sort_values(by = 'Profit', ascending=False)\n",
        "dg.query('Profit > 0').head(155).sum()"
      ],
      "metadata": {
        "id": "mi-y8wFNwSAh"
      },
      "execution_count": null,
      "outputs": []
    },
    {
      "cell_type": "code",
      "source": [
        "# customers' preference on ship mode \n",
        "df.groupby('Ship Mode')['Order ID'].count()"
      ],
      "metadata": {
        "id": "oLOW-mQrkFLf"
      },
      "execution_count": null,
      "outputs": []
    },
    {
      "cell_type": "code",
      "source": [
        "# delivery time stats\n",
        "df.groupby('Ship Mode')['Delivery Time'].describe()"
      ],
      "metadata": {
        "id": "AEhMv5j1vyIN"
      },
      "execution_count": null,
      "outputs": []
    },
    {
      "cell_type": "code",
      "source": [
        "# sales and profit by delivery time \n",
        "df.groupby('Delivery Time')[['Sales', 'Profit']].sum()"
      ],
      "metadata": {
        "id": "rT9-ctBdxYjp"
      },
      "execution_count": null,
      "outputs": []
    },
    {
      "cell_type": "markdown",
      "source": [
        "Region analysis"
      ],
      "metadata": {
        "id": "9RRn10nE_Q8z"
      }
    },
    {
      "cell_type": "code",
      "source": [
        "# overall sales and profit by states\n",
        "df.groupby(['Region', 'State'])[['Sales', 'Profit']].sum().sort_values(by = 'Sales', ascending=False).head(16)"
      ],
      "metadata": {
        "id": "2iJ7YRpscR7v"
      },
      "execution_count": null,
      "outputs": []
    },
    {
      "cell_type": "code",
      "source": [
        "# top 10 profitable states\n",
        "df.groupby(['Region', 'State'])['Profit'].sum().sort_values(ascending=False).head(10)"
      ],
      "metadata": {
        "id": "YyrmpVeLhTKA"
      },
      "execution_count": null,
      "outputs": []
    },
    {
      "cell_type": "code",
      "source": [
        "# top 10 loss states\n",
        "df.groupby(['Region', 'State'])['Profit'].sum().sort_values(ascending=False).tail(10)"
      ],
      "metadata": {
        "id": "UGseY32kiv53"
      },
      "execution_count": null,
      "outputs": []
    },
    {
      "cell_type": "markdown",
      "source": [
        "Sales and discount trend analysis"
      ],
      "metadata": {
        "id": "WcMb0AYQb5ME"
      }
    },
    {
      "cell_type": "code",
      "source": [
        "# sales by year \n",
        "df.groupby('Order Year')['Sales'].sum().sort_values(ascending=False)"
      ],
      "metadata": {
        "id": "SmTUHhZOlkxO"
      },
      "execution_count": null,
      "outputs": []
    },
    {
      "cell_type": "code",
      "source": [
        "# sales by month\n",
        "df.groupby('Order Month')['Sales'].sum().sort_values(ascending=False)"
      ],
      "metadata": {
        "id": "fzdK54uRpdcp"
      },
      "execution_count": null,
      "outputs": []
    },
    {
      "cell_type": "code",
      "source": [
        "df['Sales'].sum()"
      ],
      "metadata": {
        "id": "ij2qgGfgmEpH"
      },
      "execution_count": null,
      "outputs": []
    },
    {
      "cell_type": "code",
      "source": [
        "# profit by year\n",
        "df.groupby('Order Year')['Profit'].sum().sort_values(ascending=False)"
      ],
      "metadata": {
        "id": "C-lx0Q9VKFSj"
      },
      "execution_count": null,
      "outputs": []
    },
    {
      "cell_type": "code",
      "source": [
        "# profit by month\n",
        "df.groupby('Order Month')['Profit'].sum().sort_values(ascending=False)"
      ],
      "metadata": {
        "id": "oZMXjCgRKNxa"
      },
      "execution_count": null,
      "outputs": []
    },
    {
      "cell_type": "code",
      "source": [
        "# profit margin by year\n",
        "pm_year = df.groupby(['Order Year'])[['Sales', 'Profit']].sum()\n",
        "pm_year['Profit Margin'] = pm_year['Profit'] / pm_year['Sales'] * 100\n",
        "pm_year"
      ],
      "metadata": {
        "id": "mu5LUFk3KXou"
      },
      "execution_count": null,
      "outputs": []
    },
    {
      "cell_type": "code",
      "source": [
        "# discount by year \n",
        "df.groupby(['Order Year', 'Category'])['Discount'].mean().sort_values(ascending=False)"
      ],
      "metadata": {
        "id": "_Cq1oEc-j9zL"
      },
      "execution_count": null,
      "outputs": []
    },
    {
      "cell_type": "code",
      "source": [
        "# discount by month\n",
        "df.groupby(['Order Month', 'Category'])['Discount'].mean().sort_values(ascending=False).head(10)"
      ],
      "metadata": {
        "id": "phZ1M5IOnfaR"
      },
      "execution_count": null,
      "outputs": []
    }
  ]
}